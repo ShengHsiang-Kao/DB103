{
 "cells": [
  {
   "cell_type": "markdown",
   "metadata": {},
   "source": [
    "# 分類\n",
    "\n",
    "## 資料集\n",
    "\n",
    "![](https://upload.wikimedia.org/wikipedia/commons/thumb/1/14/Kosaciec_01.JPG/240px-Kosaciec_01.JPG)\n",
    "\n",
    "[請點我](https://www.google.com)\n",
    "\n",
    "```python\n",
    "print(\"hello python\")\n",
    "\n",
    "```\n",
    "\n",
    "$ 半圓面積 = \\frac{1}{2} \\times \\pi R^2 $"
   ]
  },
  {
   "cell_type": "code",
   "execution_count": null,
   "metadata": {
    "collapsed": true
   },
   "outputs": [],
   "source": []
  }
 ],
 "metadata": {
  "kernelspec": {
   "display_name": "Python 3",
   "language": "python",
   "name": "python3"
  },
  "language_info": {
   "codemirror_mode": {
    "name": "ipython",
    "version": 3
   },
   "file_extension": ".py",
   "mimetype": "text/x-python",
   "name": "python",
   "nbconvert_exporter": "python",
   "pygments_lexer": "ipython3",
   "version": "3.7.0"
  }
 },
 "nbformat": 4,
 "nbformat_minor": 1
}
